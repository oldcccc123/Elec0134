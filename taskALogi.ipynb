{
 "cells": [
  {
   "cell_type": "markdown",
   "metadata": {},
   "source": [
    "The alg used in task A is KNN and logistic regression. This is the file for logistic regression."
   ]
  },
  {
   "cell_type": "code",
   "execution_count": 159,
   "metadata": {},
   "outputs": [],
   "source": [
    "import matplotlib.pyplot as plt\n",
    "import numpy as np\n",
    "import torchvision.datasets as datasets\n",
    "import torchvision.transforms as transforms\n",
    "from sklearn.model_selection import train_test_split\n",
    "from sklearn.metrics import classification_report\n",
    "from sklearn.metrics import mean_squared_error\n",
    "from sklearn.metrics import confusion_matrix, ConfusionMatrixDisplay\n",
    "from sklearn.linear_model import LogisticRegression"
   ]
  },
  {
   "cell_type": "code",
   "execution_count": 160,
   "metadata": {},
   "outputs": [],
   "source": [
    "trainpath='./dataset/taska/' \n",
    "testpath='./test/taska/'\n",
    "\n",
    "transform = transforms.Compose([transforms.Resize((128,128)), #set transfrom type: 128x128 resolution, grayscale image\n",
    "transforms.Grayscale(num_output_channels=1)])\n",
    "traindata = datasets.ImageFolder(trainpath, transform) #load the data and the transformation type\n",
    "testdata = datasets.ImageFolder(testpath, transform)\n",
    "imagedata = []\n",
    "imagelabel = []\n",
    "\n",
    "for image,label in traindata: #change image data from PIL to array\n",
    "\n",
    "    imagenp = np.array(image, dtype=np.float32)\n",
    "    imagenp = imagenp.flatten().tolist()\n",
    "    imagedata.append(imagenp)#add each image list to a big list\n",
    "    imagelabel.append(label)\n",
    "\n",
    "imagetest=[]\n",
    "imagetestlabel=[]\n",
    "\n",
    "for image,label in testdata:\n",
    "    \n",
    "    imagenp = np.array(image, dtype=np.float32)\n",
    "    imagenp = imagenp.flatten().tolist()\n",
    "    imagetest.append(imagenp)\n",
    "    imagetestlabel.append(label)"
   ]
  },
  {
   "cell_type": "code",
   "execution_count": 161,
   "metadata": {},
   "outputs": [],
   "source": [
    "imagedata = np.array(imagedata) #transform data to numpy array\n",
    "imagelabel = np.array(imagelabel)\n",
    "imagetest = np.array(imagetest)\n",
    "imagetestlabel = np.array(imagetestlabel)\n",
    "\n",
    "x_train, x_test, y_train, y_test = train_test_split(imagedata, imagelabel, test_size=0.1,random_state=1)"
   ]
  },
  {
   "cell_type": "code",
   "execution_count": 162,
   "metadata": {},
   "outputs": [],
   "source": [
    "logreg = LogisticRegression(solver='newton-cg') # build model: Logistic Regression\n",
    "logreg.fit(x_train, y_train) # train model\n",
    "y_pred= logreg.predict(x_test)"
   ]
  },
  {
   "cell_type": "code",
   "execution_count": 163,
   "metadata": {},
   "outputs": [
    {
     "name": "stdout",
     "output_type": "stream",
     "text": [
      "              precision    recall  f1-score   support\n",
      "\n",
      "    No tumor       0.78      0.70      0.74        46\n",
      "       tumor       0.95      0.96      0.96       254\n",
      "\n",
      "    accuracy                           0.92       300\n",
      "   macro avg       0.86      0.83      0.85       300\n",
      "weighted avg       0.92      0.92      0.92       300\n",
      "\n"
     ]
    }
   ],
   "source": [
    "targetnames = ['No tumor', 'tumor']\n",
    "print(classification_report(y_test, y_pred, target_names=targetnames))"
   ]
  },
  {
   "cell_type": "code",
   "execution_count": 164,
   "metadata": {},
   "outputs": [
    {
     "data": {
      "image/png": "[encoded data removed]",
      "text/plain": [
       "<Figure size 432x288 with 2 Axes>"
      ]
     },
     "metadata": {
      "needs_background": "light"
     },
     "output_type": "display_data"
    }
   ],
   "source": [
    "conf = confusion_matrix(y_test, y_pred, normalize='true')\n",
    "dis = ConfusionMatrixDisplay(confusion_matrix=conf, display_labels=['Not tumor', 'tumor'])\n",
    "dis = dis.plot(cmap=plt.cm.Reds)\n",
    "plt.show()"
   ]
  },
  {
   "cell_type": "code",
   "execution_count": 165,
   "metadata": {},
   "outputs": [
    {
     "name": "stdout",
     "output_type": "stream",
     "text": [
      "Mean squared error is:0.07666666666666666\n"
     ]
    }
   ],
   "source": [
    "error = mean_squared_error(y_test,y_pred)\n",
    "print('Mean squared error is:'+str(error))"
   ]
  },
  {
   "cell_type": "markdown",
   "metadata": {},
   "source": [
    "Test dataset"
   ]
  },
  {
   "cell_type": "code",
   "execution_count": 166,
   "metadata": {},
   "outputs": [
    {
     "name": "stdout",
     "output_type": "stream",
     "text": [
      "              precision    recall  f1-score   support\n",
      "\n",
      "    No tumor       0.87      0.73      0.79        37\n",
      "       tumor       0.94      0.98      0.96       163\n",
      "\n",
      "    accuracy                           0.93       200\n",
      "   macro avg       0.91      0.85      0.88       200\n",
      "weighted avg       0.93      0.93      0.93       200\n",
      "\n"
     ]
    }
   ],
   "source": [
    "y_pred1= logreg.predict(imagetest)\n",
    "targetnames = ['No tumor', 'tumor']\n",
    "print(classification_report(imagetestlabel, y_pred1, target_names=targetnames))"
   ]
  },
  {
   "cell_type": "code",
   "execution_count": 167,
   "metadata": {},
   "outputs": [
    {
     "name": "stdout",
     "output_type": "stream",
     "text": [
      "Mean squared error is:0.07\n"
     ]
    }
   ],
   "source": [
    "error = mean_squared_error(imagetestlabel,y_pred1)\n",
    "print('Mean squared error is:'+str(error))"
   ]
  },
  {
   "cell_type": "code",
   "execution_count": 168,
   "metadata": {},
   "outputs": [
    {
     "data": {
      "image/png": "[encoded data removed]",
      "text/plain": [
       "<Figure size 432x288 with 2 Axes>"
      ]
     },
     "metadata": {
      "needs_background": "light"
     },
     "output_type": "display_data"
    }
   ],
   "source": [
    "conf = confusion_matrix(imagetestlabel, y_pred1, normalize='true')\n",
    "dis = ConfusionMatrixDisplay(confusion_matrix=conf, display_labels=['No tumor', 'tumor'])\n",
    "dis = dis.plot(cmap=plt.cm.Reds)\n",
    "plt.show()"
   ]
  }
 ],
 "metadata": {
  "interpreter": {
   "hash": "561adc2462f823656ba731c7bcdf476612afdeefff93e506e53cc3e9a02ddf0a"
  },
  "kernelspec": {
   "display_name": "Python 3.8.12 64-bit ('lab1': conda)",
   "language": "python",
   "name": "python3"
  },
  "language_info": {
   "codemirror_mode": {
    "name": "ipython",
    "version": 3
   },
   "file_extension": ".py",
   "mimetype": "text/x-python",
   "name": "python",
   "nbconvert_exporter": "python",
   "pygments_lexer": "ipython3",
   "version": "3.8.12"
  },
  "orig_nbformat": 4
 },
 "nbformat": 4,
 "nbformat_minor": 2
}
